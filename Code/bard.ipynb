{
 "cells": [
  {
   "cell_type": "code",
   "execution_count": 7,
   "id": "2347ac75",
   "metadata": {},
   "outputs": [],
   "source": [
    "list_hold = [\n",
    "  {\n",
    "    \"question\": \"I have a neck, but no head. I have a back, but no spine. I have two arms, but no hands. What am I?\",\n",
    "    \"choice_list\": [\"A chair\", \"A coat\", \"A shadow\", \"None of the above\"],\n",
    "    \"choice_order\": 2\n",
    "  },\n",
    "  {\n",
    "    \"question\": \"I am always hungry, and must always be fed. The finger I lick will soon turn red. What am I?\",\n",
    "    \"choice_list\": [\"A campfire\", \"An envelope\", \"A stamp\", \"None of the above\"],\n",
    "    \"choice_order\": 3\n",
    "  },\n",
    "  {\n",
    "    \"question\": \"I am always coming, but never arriving. I am always present, but never here. What am I?\",\n",
    "    \"choice_list\": [\"Tomorrow\", \"The future\", \"Yesterday\", \"None of the above\"],\n",
    "    \"choice_order\": 1\n",
    "  },\n",
    "  {\n",
    "    \"question\": \"I speak without a mouth, and hear without ears. I have no body, but I come alive with wind. What am I?\",\n",
    "    \"choice_list\": [\"A flag\", \"A song\", \"A tree\", \"None of the above\"],\n",
    "    \"choice_order\": 1\n",
    "  },\n",
    "  {\n",
    "    \"question\": \"I have a tongue, but cannot taste. I have a bed, but cannot sleep. I have a bell, but cannot ring. What am I?\",\n",
    "    \"choice_list\": [\"A shoe\", \"A river\", \"A clock\", \"None of the above\"],\n",
    "    \"choice_order\": 3\n",
    "  },\n",
    "  {\n",
    "    \"question\": \"I am always there, but never seen. I am always heard, but never spoken. What am I?\",\n",
    "    \"choice_list\": [\"A thought\", \"Silence\", \"A secret\", \"None of the above\"],\n",
    "    \"choice_order\": 2\n",
    "  },\n",
    "  {\n",
    "    \"question\": \"I have a face, but no eyes. I have hands, but no fingers. I have a body, but no legs. What am I?\",\n",
    "    \"choice_list\": [\"A clock\", \"A moon\", \"A tree\", \"None of the above\"],\n",
    "    \"choice_order\": 1\n",
    "  },\n",
    "  {\n",
    "    \"question\": \"I am born every morning, but die every night. I am always growing, but never get old. What am I?\",\n",
    "    \"choice_list\": [\"The sun\", \"A shadow\", \"A flower\", \"None of the above\"],\n",
    "    \"choice_order\": 2\n",
    "  },\n",
    "  {\n",
    "    \"question\": \"I am always full, but always empty. I am always coming, but never arriving. What am I?\",\n",
    "    \"choice_list\": [\"A bottle\", \"Time\", \"A river\", \"None of the above\"],\n",
    "    \"choice_order\": 2\n",
    "  },\n",
    "  {\n",
    "    \"question\": \"I have a key, but no lock. I have a space, but no room. You can enter, but can never leave. What am I?\",\n",
    "    \"choice_list\": [\"A computer\", \"A library\", \"A heart\", \"None of the above\"],\n",
    "    \"choice_order\": 3\n",
    "  },\n",
    "  {\n",
    "    \"question\": \"I speak volumes, but have no voice. I tell stories, but have no words. I capture memories, but hold no images. What am I?\",\n",
    "    \"choice_list\": [\"A photograph\", \"A footprint\", \"A diary\", \"None of the above\"],\n",
    "    \"choice_order\": 1\n",
    "  },\n",
    "  {\n",
    "    \"question\": \"I am always moving, but never going anywhere. I have many mouths, but never speak. I hold water, but never drink. What am I?\",\n",
    "    \"choice_list\": [\"A river\", \"A cloud\", \"A fountain\", \"None of the above\"],\n",
    "    \"choice_order\": 1\n",
    "  },\n",
    "  {\n",
    "    \"question\": \"I have cities, but no houses. I have mountains, but no rocks. I have water, but no fish. What am I?\",\n",
    "    \"choice_list\": [\"A map\", \"A dream\", \"A painting\", \"None of the above\"],\n",
    "  }\n",
    "]"
   ]
  },
  {
   "cell_type": "code",
   "execution_count": 11,
   "id": "71e2ae24",
   "metadata": {},
   "outputs": [
    {
     "name": "stdout",
     "output_type": "stream",
     "text": [
      "Data appended to existing my_data.json\n"
     ]
    }
   ],
   "source": [
    "import json\n",
    "\n",
    "\n",
    "# Specify the desired filename for your JSON file\n",
    "filename = \"my_data.json\"\n",
    "\n",
    "try:\n",
    "    with open(filename, \"r\"):\n",
    "        # File exists, open in append mode\n",
    "        with open(filename, \"a\") as file:\n",
    "            json.dump(list_hold, file, indent=4)\n",
    "            print(f\"Data appended to existing {filename}\")\n",
    "except FileNotFoundError:\n",
    "    # File doesn't exist, create it and write data\n",
    "    with open(filename, \"w\") as file:\n",
    "        json.dump(\",\", file, indent=4)\n",
    "        json.dump(list_hold, file, indent=4)\n",
    "        print(f\"Created new {filename} and wrote data\")"
   ]
  },
  {
   "cell_type": "code",
   "execution_count": 6,
   "id": "b7e79e20",
   "metadata": {},
   "outputs": [
    {
     "ename": "JSONDecodeError",
     "evalue": "Extra data: line 10 column 2 (char 256)",
     "output_type": "error",
     "traceback": [
      "\u001b[1;31m---------------------------------------------------------------------------\u001b[0m",
      "\u001b[1;31mJSONDecodeError\u001b[0m                           Traceback (most recent call last)",
      "Cell \u001b[1;32mIn[6], line 6\u001b[0m\n\u001b[0;32m      3\u001b[0m filename \u001b[38;5;241m=\u001b[39m \u001b[38;5;124m\"\u001b[39m\u001b[38;5;124mmy_data.json\u001b[39m\u001b[38;5;124m\"\u001b[39m  \u001b[38;5;66;03m# Replace with the actual filename\u001b[39;00m\n\u001b[0;32m      5\u001b[0m \u001b[38;5;28;01mwith\u001b[39;00m \u001b[38;5;28mopen\u001b[39m(filename, \u001b[38;5;124m\"\u001b[39m\u001b[38;5;124mr\u001b[39m\u001b[38;5;124m\"\u001b[39m) \u001b[38;5;28;01mas\u001b[39;00m file:\n\u001b[1;32m----> 6\u001b[0m     data \u001b[38;5;241m=\u001b[39m \u001b[43mjson\u001b[49m\u001b[38;5;241;43m.\u001b[39;49m\u001b[43mload\u001b[49m\u001b[43m(\u001b[49m\u001b[43mfile\u001b[49m\u001b[43m)\u001b[49m\n\u001b[0;32m      8\u001b[0m \u001b[38;5;28mprint\u001b[39m(data)  \u001b[38;5;66;03m# Print the loaded data\u001b[39;00m\n",
      "File \u001b[1;32mc:\\Users\\mousa\\AppData\\Local\\Programs\\Python\\Python312\\Lib\\json\\__init__.py:293\u001b[0m, in \u001b[0;36mload\u001b[1;34m(fp, cls, object_hook, parse_float, parse_int, parse_constant, object_pairs_hook, **kw)\u001b[0m\n\u001b[0;32m    274\u001b[0m \u001b[38;5;28;01mdef\u001b[39;00m \u001b[38;5;21mload\u001b[39m(fp, \u001b[38;5;241m*\u001b[39m, \u001b[38;5;28mcls\u001b[39m\u001b[38;5;241m=\u001b[39m\u001b[38;5;28;01mNone\u001b[39;00m, object_hook\u001b[38;5;241m=\u001b[39m\u001b[38;5;28;01mNone\u001b[39;00m, parse_float\u001b[38;5;241m=\u001b[39m\u001b[38;5;28;01mNone\u001b[39;00m,\n\u001b[0;32m    275\u001b[0m         parse_int\u001b[38;5;241m=\u001b[39m\u001b[38;5;28;01mNone\u001b[39;00m, parse_constant\u001b[38;5;241m=\u001b[39m\u001b[38;5;28;01mNone\u001b[39;00m, object_pairs_hook\u001b[38;5;241m=\u001b[39m\u001b[38;5;28;01mNone\u001b[39;00m, \u001b[38;5;241m*\u001b[39m\u001b[38;5;241m*\u001b[39mkw):\n\u001b[0;32m    276\u001b[0m \u001b[38;5;250m    \u001b[39m\u001b[38;5;124;03m\"\"\"Deserialize ``fp`` (a ``.read()``-supporting file-like object containing\u001b[39;00m\n\u001b[0;32m    277\u001b[0m \u001b[38;5;124;03m    a JSON document) to a Python object.\u001b[39;00m\n\u001b[0;32m    278\u001b[0m \n\u001b[1;32m   (...)\u001b[0m\n\u001b[0;32m    291\u001b[0m \u001b[38;5;124;03m    kwarg; otherwise ``JSONDecoder`` is used.\u001b[39;00m\n\u001b[0;32m    292\u001b[0m \u001b[38;5;124;03m    \"\"\"\u001b[39;00m\n\u001b[1;32m--> 293\u001b[0m     \u001b[38;5;28;01mreturn\u001b[39;00m \u001b[43mloads\u001b[49m\u001b[43m(\u001b[49m\u001b[43mfp\u001b[49m\u001b[38;5;241;43m.\u001b[39;49m\u001b[43mread\u001b[49m\u001b[43m(\u001b[49m\u001b[43m)\u001b[49m\u001b[43m,\u001b[49m\n\u001b[0;32m    294\u001b[0m \u001b[43m        \u001b[49m\u001b[38;5;28;43mcls\u001b[39;49m\u001b[38;5;241;43m=\u001b[39;49m\u001b[38;5;28;43mcls\u001b[39;49m\u001b[43m,\u001b[49m\u001b[43m \u001b[49m\u001b[43mobject_hook\u001b[49m\u001b[38;5;241;43m=\u001b[39;49m\u001b[43mobject_hook\u001b[49m\u001b[43m,\u001b[49m\n\u001b[0;32m    295\u001b[0m \u001b[43m        \u001b[49m\u001b[43mparse_float\u001b[49m\u001b[38;5;241;43m=\u001b[39;49m\u001b[43mparse_float\u001b[49m\u001b[43m,\u001b[49m\u001b[43m \u001b[49m\u001b[43mparse_int\u001b[49m\u001b[38;5;241;43m=\u001b[39;49m\u001b[43mparse_int\u001b[49m\u001b[43m,\u001b[49m\n\u001b[0;32m    296\u001b[0m \u001b[43m        \u001b[49m\u001b[43mparse_constant\u001b[49m\u001b[38;5;241;43m=\u001b[39;49m\u001b[43mparse_constant\u001b[49m\u001b[43m,\u001b[49m\u001b[43m \u001b[49m\u001b[43mobject_pairs_hook\u001b[49m\u001b[38;5;241;43m=\u001b[39;49m\u001b[43mobject_pairs_hook\u001b[49m\u001b[43m,\u001b[49m\u001b[43m \u001b[49m\u001b[38;5;241;43m*\u001b[39;49m\u001b[38;5;241;43m*\u001b[39;49m\u001b[43mkw\u001b[49m\u001b[43m)\u001b[49m\n",
      "File \u001b[1;32mc:\\Users\\mousa\\AppData\\Local\\Programs\\Python\\Python312\\Lib\\json\\__init__.py:346\u001b[0m, in \u001b[0;36mloads\u001b[1;34m(s, cls, object_hook, parse_float, parse_int, parse_constant, object_pairs_hook, **kw)\u001b[0m\n\u001b[0;32m    341\u001b[0m     s \u001b[38;5;241m=\u001b[39m s\u001b[38;5;241m.\u001b[39mdecode(detect_encoding(s), \u001b[38;5;124m'\u001b[39m\u001b[38;5;124msurrogatepass\u001b[39m\u001b[38;5;124m'\u001b[39m)\n\u001b[0;32m    343\u001b[0m \u001b[38;5;28;01mif\u001b[39;00m (\u001b[38;5;28mcls\u001b[39m \u001b[38;5;129;01mis\u001b[39;00m \u001b[38;5;28;01mNone\u001b[39;00m \u001b[38;5;129;01mand\u001b[39;00m object_hook \u001b[38;5;129;01mis\u001b[39;00m \u001b[38;5;28;01mNone\u001b[39;00m \u001b[38;5;129;01mand\u001b[39;00m\n\u001b[0;32m    344\u001b[0m         parse_int \u001b[38;5;129;01mis\u001b[39;00m \u001b[38;5;28;01mNone\u001b[39;00m \u001b[38;5;129;01mand\u001b[39;00m parse_float \u001b[38;5;129;01mis\u001b[39;00m \u001b[38;5;28;01mNone\u001b[39;00m \u001b[38;5;129;01mand\u001b[39;00m\n\u001b[0;32m    345\u001b[0m         parse_constant \u001b[38;5;129;01mis\u001b[39;00m \u001b[38;5;28;01mNone\u001b[39;00m \u001b[38;5;129;01mand\u001b[39;00m object_pairs_hook \u001b[38;5;129;01mis\u001b[39;00m \u001b[38;5;28;01mNone\u001b[39;00m \u001b[38;5;129;01mand\u001b[39;00m \u001b[38;5;129;01mnot\u001b[39;00m kw):\n\u001b[1;32m--> 346\u001b[0m     \u001b[38;5;28;01mreturn\u001b[39;00m \u001b[43m_default_decoder\u001b[49m\u001b[38;5;241;43m.\u001b[39;49m\u001b[43mdecode\u001b[49m\u001b[43m(\u001b[49m\u001b[43ms\u001b[49m\u001b[43m)\u001b[49m\n\u001b[0;32m    347\u001b[0m \u001b[38;5;28;01mif\u001b[39;00m \u001b[38;5;28mcls\u001b[39m \u001b[38;5;129;01mis\u001b[39;00m \u001b[38;5;28;01mNone\u001b[39;00m:\n\u001b[0;32m    348\u001b[0m     \u001b[38;5;28mcls\u001b[39m \u001b[38;5;241m=\u001b[39m JSONDecoder\n",
      "File \u001b[1;32mc:\\Users\\mousa\\AppData\\Local\\Programs\\Python\\Python312\\Lib\\json\\decoder.py:340\u001b[0m, in \u001b[0;36mJSONDecoder.decode\u001b[1;34m(self, s, _w)\u001b[0m\n\u001b[0;32m    338\u001b[0m end \u001b[38;5;241m=\u001b[39m _w(s, end)\u001b[38;5;241m.\u001b[39mend()\n\u001b[0;32m    339\u001b[0m \u001b[38;5;28;01mif\u001b[39;00m end \u001b[38;5;241m!=\u001b[39m \u001b[38;5;28mlen\u001b[39m(s):\n\u001b[1;32m--> 340\u001b[0m     \u001b[38;5;28;01mraise\u001b[39;00m JSONDecodeError(\u001b[38;5;124m\"\u001b[39m\u001b[38;5;124mExtra data\u001b[39m\u001b[38;5;124m\"\u001b[39m, s, end)\n\u001b[0;32m    341\u001b[0m \u001b[38;5;28;01mreturn\u001b[39;00m obj\n",
      "\u001b[1;31mJSONDecodeError\u001b[0m: Extra data: line 10 column 2 (char 256)"
     ]
    }
   ],
   "source": [
    "import json\n",
    "\n",
    "filename = \"my_data.json\"  # Replace with the actual filename\n",
    "\n",
    "with open(filename, \"r\") as file:\n",
    "    data = json.load(file)\n",
    "\n",
    "print(data)  # Print the loaded data\n"
   ]
  },
  {
   "cell_type": "code",
   "execution_count": null,
   "id": "a175bd2a",
   "metadata": {},
   "outputs": [],
   "source": []
  }
 ],
 "metadata": {
  "kernelspec": {
   "display_name": "Python 3 (ipykernel)",
   "language": "python",
   "name": "python3"
  },
  "language_info": {
   "codemirror_mode": {
    "name": "ipython",
    "version": 3
   },
   "file_extension": ".py",
   "mimetype": "text/x-python",
   "name": "python",
   "nbconvert_exporter": "python",
   "pygments_lexer": "ipython3",
   "version": "3.12.1"
  }
 },
 "nbformat": 4,
 "nbformat_minor": 5
}
