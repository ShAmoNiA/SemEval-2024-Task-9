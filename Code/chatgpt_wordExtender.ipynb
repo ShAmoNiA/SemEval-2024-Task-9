{
 "cells": [
  {
   "cell_type": "code",
   "execution_count": 90,
   "id": "b6d084ea",
   "metadata": {
    "height": 200
   },
   "outputs": [],
   "source": [
    "import csv\n",
    "from tqdm import tqdm\n",
    "import json \n",
    "import openai\n",
    "import os\n",
    "import numpy as np\n",
    "\n",
    "def file_loader(name):\n",
    "    set_hold = set()\n",
    "    if name.endswith(\".csv\"):\n",
    "        with open(name, 'r') as csvfile:\n",
    "                csvreader = csv.reader(csvfile)\n",
    "                next(csvreader)\n",
    "\n",
    "                for row in csvreader:\n",
    "                    set_hold.update(row[1:5])\n",
    "    else:           \n",
    "        data = np.load(name, allow_pickle=True)\n",
    "        for item in data:\n",
    "            set_hold.update(item['choice_list'][0:3])\n",
    "        \n",
    "    return set_hold"
   ]
  },
  {
   "cell_type": "code",
   "execution_count": 91,
   "id": "7032b67b",
   "metadata": {
    "height": 30
   },
   "outputs": [],
   "source": [
    "set_hold = file_loader('./WP-train.npy')"
   ]
  },
  {
   "cell_type": "code",
   "execution_count": 92,
   "id": "3a1ce574",
   "metadata": {
    "height": 166
   },
   "outputs": [],
   "source": [
    "combined_data = []\n",
    "directory_path = './'\n",
    "\n",
    "for filename in os.listdir(directory_path):\n",
    "    if filename.endswith('.json'):  # Check if the file is a JSON file\n",
    "        file_path = os.path.join(directory_path, filename)\n",
    "        with open(file_path, 'r') as json_file:\n",
    "            data = json.load(json_file)\n",
    "            combined_data.extend(data)"
   ]
  },
  {
   "cell_type": "code",
   "execution_count": 93,
   "id": "9fbf643a",
   "metadata": {
    "height": 81
   },
   "outputs": [],
   "source": [
    "for item in combined_data:\n",
    "    key = list(item.keys())[0]\n",
    "    if key in set_hold:\n",
    "        set_hold.remove(key)"
   ]
  },
  {
   "cell_type": "code",
   "execution_count": 94,
   "id": "12830516",
   "metadata": {
    "height": 132
   },
   "outputs": [],
   "source": [
    "from dotenv import load_dotenv, find_dotenv\n",
    "_ = load_dotenv(find_dotenv())\n",
    "\n",
    "openai.api_key  = os.getenv('OPENAI_API_KEY')"
   ]
  },
  {
   "cell_type": "code",
   "execution_count": 95,
   "id": "09cc8c4e",
   "metadata": {
    "height": 149
   },
   "outputs": [],
   "source": [
    "def get_completion(prompt, model=\"gpt-3.5-turbo\"):\n",
    "    messages = [{\"role\": \"user\", \"content\": prompt}]\n",
    "    response = openai.ChatCompletion.create(\n",
    "        model=model,\n",
    "        messages=messages,\n",
    "        temperature=0, # this is the degree of randomness of the model's output\n",
    "    )\n",
    "    return response.choices[0].message[\"content\"]"
   ]
  },
  {
   "cell_type": "code",
   "execution_count": 96,
   "id": "2d663502",
   "metadata": {
    "height": 149
   },
   "outputs": [],
   "source": [
    "def extender(text):\n",
    "    try:\n",
    "        prompt = f\"\"\"What it the definition of \"{text}\"? write in in super large sentence.\"\"\"\n",
    "        response = get_completion(prompt)\n",
    "        return({text:response})\n",
    "    except:\n",
    "        return text\n"
   ]
  },
  {
   "cell_type": "code",
   "execution_count": 97,
   "id": "3cab738c",
   "metadata": {
    "height": 132
   },
   "outputs": [
    {
     "name": "stderr",
     "output_type": "stream",
     "text": [
      "0it [00:00, ?it/s]\n"
     ]
    }
   ],
   "source": [
    "hold = []\n",
    "import concurrent.futures\n",
    "with concurrent.futures.ProcessPoolExecutor(max_workers=50) as executor:\n",
    "    futures = [executor.submit(extender, parameter) for parameter in set_hold]\n",
    "    for future in tqdm(concurrent.futures.as_completed(futures),total=len(futures)):\n",
    "        result = future.result(timeout=10)\n",
    "        hold.append(result)"
   ]
  },
  {
   "cell_type": "code",
   "execution_count": 89,
   "id": "f3e33e70",
   "metadata": {
    "height": 353
   },
   "outputs": [],
   "source": [
    "hold_json = []\n",
    "hold_failed = []\n",
    "for item in hold:\n",
    "    if isinstance(item, dict):\n",
    "        hold_json.append(item)\n",
    "    else:\n",
    "        hold_failed.append(item)\n",
    "\n",
    "file_path = 'meaning.json'        \n",
    "if os.path.exists(file_path):\n",
    "    with open(file_path, 'r') as json_file:\n",
    "        existing_data = json.load(json_file)\n",
    "else:\n",
    "    existing_data = []\n",
    "\n",
    "existing_data.extend(hold_json)    \n",
    "with open(file_path, 'w') as json_file:\n",
    "    json.dump(existing_data, json_file)"
   ]
  },
  {
   "cell_type": "code",
   "execution_count": null,
   "id": "db456b2d",
   "metadata": {
    "height": 30
   },
   "outputs": [],
   "source": []
  }
 ],
 "metadata": {
  "kernelspec": {
   "display_name": "Python 3 (ipykernel)",
   "language": "python",
   "name": "python3"
  },
  "language_info": {
   "codemirror_mode": {
    "name": "ipython",
    "version": 3
   },
   "file_extension": ".py",
   "mimetype": "text/x-python",
   "name": "python",
   "nbconvert_exporter": "python",
   "pygments_lexer": "ipython3",
   "version": "3.9.16"
  }
 },
 "nbformat": 4,
 "nbformat_minor": 5
}
