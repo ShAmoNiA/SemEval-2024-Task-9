{
 "cells": [
  {
   "cell_type": "code",
   "execution_count": 6,
   "metadata": {},
   "outputs": [
    {
     "name": "stdout",
     "output_type": "stream",
     "text": [
      "mother board which means the main circuit board for a computer\n"
     ]
    }
   ],
   "source": [
    "import requests\n",
    "\n",
    "def get_word_meaning(word):\n",
    "    api_key = \"636021eba6msh1b5e9adf34a725dp128723jsn3980f70d19b2\"  # Replace with your actual API key from WordsAPI\n",
    "    base_url = \"https://wordsapiv1.p.rapidapi.com/words/\"\n",
    "\n",
    "    headers = {\n",
    "        'X-RapidAPI-Host': 'wordsapiv1.p.rapidapi.com',\n",
    "        'X-RapidAPI-Key': api_key\n",
    "    }\n",
    "\n",
    "    url = base_url + word\n",
    "\n",
    "    try:\n",
    "        response = requests.get(url, headers=headers)\n",
    "        data = response.json()\n",
    "\n",
    "        if 'error' in data:\n",
    "            print(f\"Error: {data['error']}\")\n",
    "        else:\n",
    "            print(f\"{word} which means {data['results'][0]['definition']}\")\n",
    "\n",
    "    except Exception as e:\n",
    "        print(f\"An error occurred: {e}\")\n",
    "\n",
    "# Example usage\n",
    "word_to_lookup = \"mother board\"\n",
    "get_word_meaning(word_to_lookup)\n"
   ]
  }
 ],
 "metadata": {
  "kernelspec": {
   "display_name": "Python 3",
   "language": "python",
   "name": "python3"
  },
  "language_info": {
   "codemirror_mode": {
    "name": "ipython",
    "version": 3
   },
   "file_extension": ".py",
   "mimetype": "text/x-python",
   "name": "python",
   "nbconvert_exporter": "python",
   "pygments_lexer": "ipython3",
   "version": "3.12.1"
  }
 },
 "nbformat": 4,
 "nbformat_minor": 2
}
